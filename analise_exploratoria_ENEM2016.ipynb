{
 "cells": [
  {
   "cell_type": "markdown",
   "metadata": {},
   "source": [
    "## Análise exploratória dos dados do ENEM-2016"
   ]
  },
  {
   "cell_type": "markdown",
   "metadata": {},
   "source": [
    "A análise dos dados está em publicada no meu [Medium](https://medium.com/@naiaracerqueira/an%C3%A1lise-explorat%C3%B3ria-de-dados-do-enem-d1a7cccf4489). "
   ]
  },
  {
   "cell_type": "code",
   "execution_count": 1,
   "metadata": {},
   "outputs": [
    {
     "name": "stderr",
     "output_type": "stream",
     "text": [
      "/home/naiara/snap/jupyter/common/lib/python3.7/site-packages/joblib/_multiprocessing_helpers.py:53: UserWarning: [Errno 13] Permission denied.  joblib will operate in serial mode\n",
      "  warnings.warn('%s.  joblib will operate in serial mode' % (e,))\n"
     ]
    }
   ],
   "source": [
    "import pandas as pd\n",
    "import numpy as np\n",
    "import matplotlib.pyplot as plt\n",
    "import seaborn as sns\n",
    "\n",
    "#sns.set(style='whitegrid')\n",
    "#temas disponíveis: darkgrid, whitegrid, dark, white, and ticks"
   ]
  },
  {
   "cell_type": "code",
   "execution_count": 2,
   "metadata": {},
   "outputs": [
    {
     "data": {
      "text/plain": [
       "['seaborn-colorblind',\n",
       " 'dark_background',\n",
       " 'seaborn-white',\n",
       " 'ggplot',\n",
       " 'grayscale',\n",
       " 'seaborn-deep',\n",
       " 'tableau-colorblind10',\n",
       " 'seaborn-darkgrid',\n",
       " 'seaborn-dark-palette',\n",
       " 'seaborn-paper',\n",
       " 'seaborn-talk',\n",
       " 'Solarize_Light2',\n",
       " 'seaborn-whitegrid',\n",
       " 'seaborn-muted',\n",
       " '_classic_test',\n",
       " 'seaborn-dark',\n",
       " 'seaborn-ticks',\n",
       " 'classic',\n",
       " 'seaborn-bright',\n",
       " 'seaborn-notebook',\n",
       " 'seaborn-pastel',\n",
       " 'seaborn',\n",
       " 'bmh',\n",
       " 'fivethirtyeight',\n",
       " 'seaborn-poster',\n",
       " 'fast']"
      ]
     },
     "execution_count": 2,
     "metadata": {},
     "output_type": "execute_result"
    }
   ],
   "source": [
    "plt.style.use('seaborn-colorblind')\n",
    "\n",
    "#ver os estilos disponíveis, para escolher o seaborn-colorblind que é bonitinho \n",
    "plt.style.available"
   ]
  },
  {
   "cell_type": "markdown",
   "metadata": {},
   "source": [
    "### Estudar e selecionar os dados"
   ]
  },
  {
   "cell_type": "code",
   "execution_count": 3,
   "metadata": {},
   "outputs": [
    {
     "data": {
      "text/plain": [
       "(13730, 167)"
      ]
     },
     "execution_count": 3,
     "metadata": {},
     "output_type": "execute_result"
    }
   ],
   "source": [
    "df = pd.read_csv('train.csv')\n",
    "df.shape"
   ]
  },
  {
   "cell_type": "code",
   "execution_count": 4,
   "metadata": {},
   "outputs": [
    {
     "data": {
      "text/plain": [
       "Index(['Unnamed: 0', 'NU_INSCRICAO', 'NU_ANO', 'CO_MUNICIPIO_RESIDENCIA',\n",
       "       'NO_MUNICIPIO_RESIDENCIA', 'CO_UF_RESIDENCIA', 'SG_UF_RESIDENCIA',\n",
       "       'NU_IDADE', 'TP_SEXO', 'TP_ESTADO_CIVIL',\n",
       "       ...\n",
       "       'Q041', 'Q042', 'Q043', 'Q044', 'Q045', 'Q046', 'Q047', 'Q048', 'Q049',\n",
       "       'Q050'],\n",
       "      dtype='object', length=167)"
      ]
     },
     "execution_count": 4,
     "metadata": {},
     "output_type": "execute_result"
    }
   ],
   "source": [
    "#ver as colunas disponíveis\n",
    "df.columns"
   ]
  },
  {
   "cell_type": "code",
   "execution_count": 5,
   "metadata": {},
   "outputs": [
    {
     "name": "stdout",
     "output_type": "stream",
     "text": [
      "meu dataset tem 13730 colunas e 9 linhas\n"
     ]
    }
   ],
   "source": [
    "#selecionando apenas algumas colunas\n",
    "enem = df[['SG_UF_RESIDENCIA','NU_IDADE','TP_SEXO','TP_COR_RACA','NU_NOTA_MT','NU_NOTA_CH','Q025',\n",
    "         'Q006','Q002']]\n",
    "print('meu dataset tem',enem.shape[0],'colunas e',enem.shape[1],'linhas')"
   ]
  },
  {
   "cell_type": "code",
   "execution_count": 6,
   "metadata": {},
   "outputs": [
    {
     "data": {
      "text/html": [
       "<div>\n",
       "<style scoped>\n",
       "    .dataframe tbody tr th:only-of-type {\n",
       "        vertical-align: middle;\n",
       "    }\n",
       "\n",
       "    .dataframe tbody tr th {\n",
       "        vertical-align: top;\n",
       "    }\n",
       "\n",
       "    .dataframe thead th {\n",
       "        text-align: right;\n",
       "    }\n",
       "</style>\n",
       "<table border=\"1\" class=\"dataframe\">\n",
       "  <thead>\n",
       "    <tr style=\"text-align: right;\">\n",
       "      <th></th>\n",
       "      <th>SG_UF_RESIDENCIA</th>\n",
       "      <th>NU_IDADE</th>\n",
       "      <th>TP_SEXO</th>\n",
       "      <th>TP_COR_RACA</th>\n",
       "      <th>NU_NOTA_MT</th>\n",
       "      <th>NU_NOTA_CH</th>\n",
       "      <th>Q025</th>\n",
       "      <th>Q006</th>\n",
       "      <th>Q002</th>\n",
       "    </tr>\n",
       "  </thead>\n",
       "  <tbody>\n",
       "    <tr>\n",
       "      <th>0</th>\n",
       "      <td>RS</td>\n",
       "      <td>24</td>\n",
       "      <td>M</td>\n",
       "      <td>1</td>\n",
       "      <td>399.4</td>\n",
       "      <td>495.4</td>\n",
       "      <td>A</td>\n",
       "      <td>C</td>\n",
       "      <td>D</td>\n",
       "    </tr>\n",
       "    <tr>\n",
       "      <th>1</th>\n",
       "      <td>CE</td>\n",
       "      <td>17</td>\n",
       "      <td>F</td>\n",
       "      <td>3</td>\n",
       "      <td>459.8</td>\n",
       "      <td>544.1</td>\n",
       "      <td>A</td>\n",
       "      <td>B</td>\n",
       "      <td>A</td>\n",
       "    </tr>\n",
       "    <tr>\n",
       "      <th>2</th>\n",
       "      <td>CE</td>\n",
       "      <td>21</td>\n",
       "      <td>F</td>\n",
       "      <td>3</td>\n",
       "      <td>NaN</td>\n",
       "      <td>NaN</td>\n",
       "      <td>A</td>\n",
       "      <td>C</td>\n",
       "      <td>D</td>\n",
       "    </tr>\n",
       "    <tr>\n",
       "      <th>3</th>\n",
       "      <td>RJ</td>\n",
       "      <td>25</td>\n",
       "      <td>F</td>\n",
       "      <td>0</td>\n",
       "      <td>NaN</td>\n",
       "      <td>NaN</td>\n",
       "      <td>B</td>\n",
       "      <td>E</td>\n",
       "      <td>E</td>\n",
       "    </tr>\n",
       "    <tr>\n",
       "      <th>4</th>\n",
       "      <td>AM</td>\n",
       "      <td>28</td>\n",
       "      <td>M</td>\n",
       "      <td>2</td>\n",
       "      <td>NaN</td>\n",
       "      <td>NaN</td>\n",
       "      <td>A</td>\n",
       "      <td>C</td>\n",
       "      <td>D</td>\n",
       "    </tr>\n",
       "  </tbody>\n",
       "</table>\n",
       "</div>"
      ],
      "text/plain": [
       "  SG_UF_RESIDENCIA  NU_IDADE TP_SEXO  TP_COR_RACA  NU_NOTA_MT  NU_NOTA_CH  \\\n",
       "0               RS        24       M            1       399.4       495.4   \n",
       "1               CE        17       F            3       459.8       544.1   \n",
       "2               CE        21       F            3         NaN         NaN   \n",
       "3               RJ        25       F            0         NaN         NaN   \n",
       "4               AM        28       M            2         NaN         NaN   \n",
       "\n",
       "  Q025 Q006 Q002  \n",
       "0    A    C    D  \n",
       "1    A    B    A  \n",
       "2    A    C    D  \n",
       "3    B    E    E  \n",
       "4    A    C    D  "
      ]
     },
     "execution_count": 6,
     "metadata": {},
     "output_type": "execute_result"
    }
   ],
   "source": [
    "enem.head()"
   ]
  },
  {
   "cell_type": "code",
   "execution_count": 8,
   "metadata": {},
   "outputs": [
    {
     "data": {
      "text/html": [
       "<div>\n",
       "<style scoped>\n",
       "    .dataframe tbody tr th:only-of-type {\n",
       "        vertical-align: middle;\n",
       "    }\n",
       "\n",
       "    .dataframe tbody tr th {\n",
       "        vertical-align: top;\n",
       "    }\n",
       "\n",
       "    .dataframe thead th {\n",
       "        text-align: right;\n",
       "    }\n",
       "</style>\n",
       "<table border=\"1\" class=\"dataframe\">\n",
       "  <thead>\n",
       "    <tr style=\"text-align: right;\">\n",
       "      <th></th>\n",
       "      <th>tipos</th>\n",
       "      <th>missing</th>\n",
       "    </tr>\n",
       "  </thead>\n",
       "  <tbody>\n",
       "    <tr>\n",
       "      <th>SG_UF_RESIDENCIA</th>\n",
       "      <td>object</td>\n",
       "      <td>0</td>\n",
       "    </tr>\n",
       "    <tr>\n",
       "      <th>NU_IDADE</th>\n",
       "      <td>int64</td>\n",
       "      <td>0</td>\n",
       "    </tr>\n",
       "    <tr>\n",
       "      <th>TP_SEXO</th>\n",
       "      <td>object</td>\n",
       "      <td>0</td>\n",
       "    </tr>\n",
       "    <tr>\n",
       "      <th>TP_COR_RACA</th>\n",
       "      <td>int64</td>\n",
       "      <td>0</td>\n",
       "    </tr>\n",
       "    <tr>\n",
       "      <th>NU_NOTA_MT</th>\n",
       "      <td>float64</td>\n",
       "      <td>3597</td>\n",
       "    </tr>\n",
       "    <tr>\n",
       "      <th>NU_NOTA_CH</th>\n",
       "      <td>float64</td>\n",
       "      <td>3389</td>\n",
       "    </tr>\n",
       "    <tr>\n",
       "      <th>Q025</th>\n",
       "      <td>object</td>\n",
       "      <td>0</td>\n",
       "    </tr>\n",
       "    <tr>\n",
       "      <th>Q006</th>\n",
       "      <td>object</td>\n",
       "      <td>0</td>\n",
       "    </tr>\n",
       "    <tr>\n",
       "      <th>Q002</th>\n",
       "      <td>object</td>\n",
       "      <td>0</td>\n",
       "    </tr>\n",
       "  </tbody>\n",
       "</table>\n",
       "</div>"
      ],
      "text/plain": [
       "                    tipos  missing\n",
       "SG_UF_RESIDENCIA   object        0\n",
       "NU_IDADE            int64        0\n",
       "TP_SEXO            object        0\n",
       "TP_COR_RACA         int64        0\n",
       "NU_NOTA_MT        float64     3597\n",
       "NU_NOTA_CH        float64     3389\n",
       "Q025               object        0\n",
       "Q006               object        0\n",
       "Q002               object        0"
      ]
     },
     "execution_count": 8,
     "metadata": {},
     "output_type": "execute_result"
    }
   ],
   "source": [
    "#tabelinha com colunas, tipos dos dados em cada colunas e porcentagem de dados nulos por coluna\n",
    "pd.DataFrame({'tipos':enem.dtypes, 'missing':enem.isna().sum()})"
   ]
  },
  {
   "cell_type": "markdown",
   "metadata": {},
   "source": [
    "### Tratando variáveis qualitativas"
   ]
  },
  {
   "cell_type": "code",
   "execution_count": null,
   "metadata": {},
   "outputs": [],
   "source": [
    "enem['TP_COR_RACA'] = enem['TP_COR_RACA'].map({0:'NA', 6:'NA', 1:'Branca', 2:'Preta', 3:'Parda',\n",
    "                                               4:'Amarela', 5:'Indígena'})"
   ]
  },
  {
   "cell_type": "code",
   "execution_count": null,
   "metadata": {},
   "outputs": [],
   "source": [
    "#Possui internet em casa?\n",
    "enem['Q025'] = enem['Q025'].map({'A':'Não', 'B':'Sim'})"
   ]
  },
  {
   "cell_type": "code",
   "execution_count": null,
   "metadata": {},
   "outputs": [],
   "source": [
    "#Escolaridade da mãe\n",
    "enem['Q002'] = enem['Q002'].map({'A':'Nunca estudou', 'B':'Não completou EF', 'C':'Não completou EF',\n",
    "                                'D':'Não completou EM', 'E':'Não completou ES', 'F':'Graduada',\n",
    "                                'G':'Pós-graduada','H':'Não sabe'})"
   ]
  },
  {
   "cell_type": "code",
   "execution_count": null,
   "metadata": {},
   "outputs": [],
   "source": [
    "#Renda familiar (incluindo a do aluno)\n",
    "enem['Q006'] = enem['Q006'].map({'A':'Nenhuma renda', 'B':'Até 1.320', 'C':'Até 1.320',\n",
    "                                 'D':'Até 3.520', 'E':'Até 3.520', 'F':'Até 3.520', 'G':'Até 3.520',\n",
    "                                 'H':'Até 10.560','I':'Até 10.560', 'J':'Até 10.560','K':'Até 10.560',\n",
    "                                 'L':'Até 10.560','M':'Até 10.560','N':'Até 10.560',\n",
    "                                 'O':'Mais de 10.560','P':'Mais de 10.560','Q':'Mais de 10.560'})"
   ]
  },
  {
   "cell_type": "markdown",
   "metadata": {},
   "source": [
    "### Gráficos iniciais"
   ]
  },
  {
   "cell_type": "code",
   "execution_count": null,
   "metadata": {},
   "outputs": [],
   "source": [
    "#porcentagem de cada sexo na amostra\n",
    "enem['TP_SEXO'].value_counts()/enem.shape[0]*100"
   ]
  },
  {
   "cell_type": "code",
   "execution_count": null,
   "metadata": {},
   "outputs": [],
   "source": [
    "enem['TP_COR_RACA'].value_counts()/enem.shape[0]*100"
   ]
  },
  {
   "cell_type": "code",
   "execution_count": null,
   "metadata": {},
   "outputs": [],
   "source": [
    "sns.countplot(enem['TP_COR_RACA'])\n",
    "plt.xlabel('Cor/Raça')\n",
    "plt.ylabel(\"\")\n",
    "plt.show()"
   ]
  },
  {
   "cell_type": "code",
   "execution_count": null,
   "metadata": {},
   "outputs": [],
   "source": [
    "sns.countplot(enem['TP_SEXO'],hue=enem['TP_COR_RACA'], dodge=True)\n",
    "plt.title('Sexo x Cor')\n",
    "plt.xlabel('')\n",
    "plt.ylabel(\"\")\n",
    "plt.legend(loc='best')\n",
    "plt.show()"
   ]
  },
  {
   "cell_type": "code",
   "execution_count": null,
   "metadata": {
    "scrolled": true
   },
   "outputs": [],
   "source": [
    "sns.countplot(enem['SG_UF_RESIDENCIA'], orient='h')\n",
    "plt.title('UF de Residência', size=15)\n",
    "plt.xticks(rotation=90)\n",
    "plt.xlabel(\"\")\n",
    "plt.ylabel(\"\")\n",
    "plt.show()"
   ]
  },
  {
   "cell_type": "code",
   "execution_count": null,
   "metadata": {},
   "outputs": [],
   "source": [
    "#Possui internet em casa?\n",
    "enem['Q025'].value_counts()/enem.shape[0]*100"
   ]
  },
  {
   "cell_type": "code",
   "execution_count": null,
   "metadata": {},
   "outputs": [],
   "source": [
    "#Escolaridade da mãe\n",
    "enem['Q002'].value_counts()/enem.shape[0]*100"
   ]
  },
  {
   "cell_type": "code",
   "execution_count": null,
   "metadata": {},
   "outputs": [],
   "source": [
    "sns.countplot(enem['Q002'])\n",
    "plt.title('Escolaridade da mãe')\n",
    "plt.xticks(rotation=90)\n",
    "plt.xlabel(\"\")\n",
    "plt.ylabel(\"\")\n",
    "plt.show()"
   ]
  },
  {
   "cell_type": "code",
   "execution_count": null,
   "metadata": {},
   "outputs": [],
   "source": [
    "#Renda da familia, incluindo a do aluno\n",
    "enem['Q006'].value_counts()/enem.shape[0]*100"
   ]
  },
  {
   "cell_type": "code",
   "execution_count": null,
   "metadata": {},
   "outputs": [],
   "source": [
    "sns.countplot(enem['Q006'])\n",
    "plt.title('Renda familiar mensal')\n",
    "plt.xticks(rotation=90)\n",
    "plt.xlabel(\"\")\n",
    "plt.ylabel(\"\")\n",
    "plt.show()"
   ]
  },
  {
   "cell_type": "markdown",
   "metadata": {},
   "source": [
    "### Cruzando com as notas de matemática"
   ]
  },
  {
   "cell_type": "code",
   "execution_count": null,
   "metadata": {},
   "outputs": [],
   "source": [
    "enem.describe()"
   ]
  },
  {
   "cell_type": "code",
   "execution_count": null,
   "metadata": {},
   "outputs": [],
   "source": [
    "plt.hist(enem['NU_NOTA_MT'], alpha=0.7, color='red')\n",
    "plt.hist(enem['NU_NOTA_CH'], alpha=0.7, color='blue')\n",
    "plt.title('Histograma das notas')\n",
    "plt.show()"
   ]
  },
  {
   "cell_type": "code",
   "execution_count": null,
   "metadata": {},
   "outputs": [],
   "source": [
    "plt.hist(enem['NU_IDADE'],bins=15, histtype='bar', color='#3CB371')\n",
    "plt.title('Histograma da idade')\n",
    "plt.show()"
   ]
  },
  {
   "cell_type": "code",
   "execution_count": null,
   "metadata": {},
   "outputs": [],
   "source": [
    "plt.scatter(enem['NU_IDADE'], enem['NU_NOTA_MT'], alpha=0.5)\n",
    "plt.title(\"Idade x Nota na prova de matemática\", size=15)\n",
    "plt.xlabel(\"Idade\")\n",
    "plt.ylabel(\"Nota de matemática\")\n",
    "plt.ylim(200) #ignorando as notas = 0\n",
    "plt.show()"
   ]
  },
  {
   "cell_type": "code",
   "execution_count": null,
   "metadata": {},
   "outputs": [],
   "source": [
    "plt.scatter(enem['NU_IDADE'], enem['NU_NOTA_CH'], alpha=0.5)\n",
    "plt.title(\"Idade x Nota na prova de humanas\", size=15)\n",
    "plt.xlabel(\"Idade\")\n",
    "plt.ylabel(\"Nota de matemática\")\n",
    "plt.ylim(200) #ignorando as notas = 0\n",
    "plt.show()"
   ]
  },
  {
   "cell_type": "code",
   "execution_count": null,
   "metadata": {},
   "outputs": [],
   "source": [
    "plt.scatter(enem['NU_NOTA_MT'], enem['NU_NOTA_CH'], alpha=0.5)\n",
    "plt.xlim(300) #removendo as notas =0\n",
    "plt.ylim(300) #removendo as notas =0\n",
    "plt.xlabel(\"Nota de Matemática\")\n",
    "plt.ylabel(\"Nota de Ciências Humanas\")\n",
    "plt.show()"
   ]
  },
  {
   "cell_type": "code",
   "execution_count": null,
   "metadata": {},
   "outputs": [],
   "source": [
    "sns.boxplot(x=enem['TP_SEXO'], y=enem['NU_NOTA_MT'])\n",
    "plt.xlabel(\"\")\n",
    "plt.ylabel(\"Nota de Matemática\")\n",
    "plt.show()\n",
    "\n",
    "#fazer teste estatistico pra ver se tem diferença significativa entre os sexos"
   ]
  },
  {
   "cell_type": "code",
   "execution_count": null,
   "metadata": {},
   "outputs": [],
   "source": [
    "from scipy import stats\n",
    "from statsmodels.stats import diagnostic"
   ]
  },
  {
   "cell_type": "code",
   "execution_count": null,
   "metadata": {},
   "outputs": [],
   "source": [
    "sexo = enem[['TP_SEXO', 'NU_NOTA_MT']]\n",
    "sexo_f = sexo.query('TP_SEXO == \"F\"').drop('TP_SEXO',axis=1).dropna()\n",
    "sexo_m = sexo.query('TP_SEXO == \"M\"').drop('TP_SEXO',axis=1).dropna()\n",
    "print(sexo_f.shape[0])\n",
    "print(sexo_m.shape[0])"
   ]
  },
  {
   "cell_type": "code",
   "execution_count": null,
   "metadata": {},
   "outputs": [],
   "source": [
    "# teste de normalidade: Shapiro-Wilk \"p-value may not be accurate for N > 5000.\"\n",
    "# teste de normalidade: Lilliefors Test: FALHOU! \n",
    "# mas eu imaginava isso pelos gráficos e diferença entre media e mediana\n",
    "\n",
    "print('sexo_f:',diagnostic.lilliefors(sexo_f))\n",
    "print('sexo_m:',diagnostic.lilliefors(sexo_m))"
   ]
  },
  {
   "cell_type": "code",
   "execution_count": null,
   "metadata": {},
   "outputs": [],
   "source": [
    "# Teste U de Mann–Whitney: são estatisticamente diferentes!\n",
    "stats.mannwhitneyu(sexo_f, sexo_m, alternative='two-sided')"
   ]
  },
  {
   "cell_type": "code",
   "execution_count": null,
   "metadata": {},
   "outputs": [],
   "source": [
    "sns.boxplot(x=enem['Q025'], y=enem['NU_NOTA_MT'])\n",
    "plt.xlabel(\"Tem internet em casa?\")\n",
    "plt.ylabel(\"Nota de Matemática\")\n",
    "plt.show()"
   ]
  },
  {
   "cell_type": "code",
   "execution_count": null,
   "metadata": {},
   "outputs": [],
   "source": [
    "internet = enem[['Q025', 'NU_NOTA_MT']]\n",
    "internet_n = internet.query('Q025 == \"Não\"').drop('Q025',axis=1).dropna()\n",
    "internet_s = internet.query('Q025 == \"Sim\"').drop('Q025',axis=1).dropna()\n",
    "print(internet_n.shape[0])\n",
    "print(internet_s.shape[0])"
   ]
  },
  {
   "cell_type": "code",
   "execution_count": null,
   "metadata": {},
   "outputs": [],
   "source": [
    "# teste de normalidade: FALHOU!\n",
    "print('internet_n:',diagnostic.lilliefors(internet_n))\n",
    "print('internet_s:',diagnostic.lilliefors(internet_s))"
   ]
  },
  {
   "cell_type": "code",
   "execution_count": null,
   "metadata": {},
   "outputs": [],
   "source": [
    "# Teste U de Mann–Whitney: são estatisticamente diferentes!\n",
    "stats.mannwhitneyu(internet_n, internet_s, alternative='two-sided')"
   ]
  },
  {
   "cell_type": "code",
   "execution_count": null,
   "metadata": {},
   "outputs": [],
   "source": [
    "sns.boxplot(x=enem['TP_COR_RACA'], y=enem['NU_NOTA_MT'])\n",
    "plt.xlabel(\"\")\n",
    "plt.ylabel(\"Nota de Matemática\")\n",
    "plt.show()"
   ]
  },
  {
   "cell_type": "code",
   "execution_count": null,
   "metadata": {},
   "outputs": [],
   "source": [
    "raca = enem[['TP_COR_RACA', 'NU_NOTA_MT']]\n",
    "raca_b = raca.query('TP_COR_RACA == \"Branca\"').drop('TP_COR_RACA',axis=1).dropna()\n",
    "raca_pa = raca.query('TP_COR_RACA == \"Parda\"').drop('TP_COR_RACA',axis=1).dropna()\n",
    "raca_pr = raca.query('TP_COR_RACA == \"Preta\"').drop('TP_COR_RACA',axis=1).dropna()\n",
    "raca_a = raca.query('TP_COR_RACA == \"Amarela\"').drop('TP_COR_RACA',axis=1).dropna()\n",
    "raca_i = raca.query('TP_COR_RACA == \"Indígena\"').drop('TP_COR_RACA',axis=1).dropna()\n",
    "\n",
    "print(raca_b.shape[0])\n",
    "print(raca_pa.shape[0])\n",
    "print(raca_pr.shape[0])\n",
    "print(raca_a.shape[0])\n",
    "print(raca_i.shape[0]) "
   ]
  },
  {
   "cell_type": "code",
   "execution_count": null,
   "metadata": {},
   "outputs": [],
   "source": [
    "# Agora eu já entro em comparações múltiplas pq não tenho mais só duas amostras pra comparar\n",
    "# O Teste de Kruskal-Wallis é um teste não paramétrico para comparações de múltiplas amostras\n",
    "# Ele é seguido do Dunn, que avalia as amostras com diferenças significativas de duas em duas \n",
    "# Ainda não apliquei o Dunn pois não consegui.\n",
    "\n",
    "stats.kruskal(raca_b,raca_pa,raca_pr,raca_a,raca_i)"
   ]
  },
  {
   "cell_type": "code",
   "execution_count": null,
   "metadata": {},
   "outputs": [],
   "source": [
    "sns.boxplot(x=enem['Q006'], y=enem['NU_NOTA_MT'])\n",
    "plt.xticks(rotation=90)\n",
    "plt.xlabel(\"Renda familiar\")\n",
    "plt.ylabel(\"Nota de Matemática\")\n",
    "plt.show()"
   ]
  },
  {
   "cell_type": "code",
   "execution_count": null,
   "metadata": {},
   "outputs": [],
   "source": [
    "sns.boxplot(x=enem['Q002'], y=enem['NU_NOTA_MT'])\n",
    "plt.xticks(rotation=90)\n",
    "plt.xlabel(\"Escolaridade da mãe\")\n",
    "plt.ylabel(\"Nota de Matemática\")\n",
    "plt.show()"
   ]
  },
  {
   "cell_type": "code",
   "execution_count": null,
   "metadata": {},
   "outputs": [],
   "source": [
    "sns.boxplot(x=enem['SG_UF_RESIDENCIA'], y=enem['NU_NOTA_MT'])\n",
    "plt.xticks(rotation=90)\n",
    "plt.xlabel(\"\")\n",
    "plt.ylabel(\"Nota de Matemática\")\n",
    "plt.show()"
   ]
  },
  {
   "cell_type": "code",
   "execution_count": null,
   "metadata": {},
   "outputs": [],
   "source": []
  }
 ],
 "metadata": {
  "kernelspec": {
   "display_name": "Python 3",
   "language": "python",
   "name": "python3"
  },
  "language_info": {
   "codemirror_mode": {
    "name": "ipython",
    "version": 3
   },
   "file_extension": ".py",
   "mimetype": "text/x-python",
   "name": "python",
   "nbconvert_exporter": "python",
   "pygments_lexer": "ipython3",
   "version": "3.7.3"
  }
 },
 "nbformat": 4,
 "nbformat_minor": 2
}
